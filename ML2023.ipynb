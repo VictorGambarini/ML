{
  "nbformat": 4,
  "nbformat_minor": 0,
  "metadata": {
    "colab": {
      "provenance": [],
      "authorship_tag": "ABX9TyOS7r94Qh9qnaymOrtc8zAI",
      "include_colab_link": true
    },
    "kernelspec": {
      "name": "python3",
      "display_name": "Python 3"
    },
    "language_info": {
      "name": "python"
    }
  },
  "cells": [
    {
      "cell_type": "markdown",
      "metadata": {
        "id": "view-in-github",
        "colab_type": "text"
      },
      "source": [
        "<a href=\"https://colab.research.google.com/github/VictorGambarini/ML/blob/main/ML2023.ipynb\" target=\"_parent\"><img src=\"https://colab.research.google.com/assets/colab-badge.svg\" alt=\"Open In Colab\"/></a>"
      ]
    },
    {
      "cell_type": "markdown",
      "source": [
        "![logo](https://www.publicdomainpictures.net/pictures/290000/nahled/machine-learning.jpg)"
      ],
      "metadata": {
        "id": "x2OtABw84XqM"
      }
    },
    {
      "cell_type": "markdown",
      "source": [
        "# Welcome to Machine Learning Carpentry 2023\n",
        "\n",
        "This carpentry is being taught by the Centre for eResearch at the University of Auckland.\n",
        "\n",
        "Website: https://research-hub.auckland.ac.nz/event/machine-learning-carpentry\n"
      ],
      "metadata": {
        "id": "_rB97Iaf5qvK"
      }
    },
    {
      "cell_type": "code",
      "execution_count": null,
      "metadata": {
        "id": "VFuBFC2C3Eld"
      },
      "outputs": [],
      "source": [
        "# Download required data\n",
        "!wget https://swcarpentry.github.io/python-novice-inflammation/data/python-novice-inflammation-data.zip\n",
        "!wget https://swcarpentry.github.io/python-novice-inflammation/code/python-novice-inflammation-code.zip\n",
        "!wget https://carpentries-incubator.github.io/machine-learning-novice-sklearn/data/gapminder-life-expectancy.csv\n",
        "!wget https://carpentries-incubator.github.io/machine-learning-novice-sklearn/data/worldbank-gdp.csv\n",
        "!wget https://carpentries-incubator.github.io/machine-learning-novice-sklearn/data/worldbank-gdp-outliers.csv\n",
        "!for file in $(ls *.zip); do unzip $file; done"
      ]
    }
  ]
}